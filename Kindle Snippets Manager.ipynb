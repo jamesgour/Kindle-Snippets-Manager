{
 "cells": [
  {
   "cell_type": "code",
   "execution_count": 11,
   "metadata": {},
   "outputs": [],
   "source": [
    "# Import Libraries\n",
    "import pandas as pd\n",
    "import numpy as np\n",
    "import seaborn as sns\n",
    "\n",
    "import sys"
   ]
  },
  {
   "cell_type": "code",
   "execution_count": 18,
   "metadata": {},
   "outputs": [],
   "source": [
    "with open('My Clippings.txt', 'r+', encoding=\"utf8\") as file:\n",
    "    for line in file:\n",
    "        if not line.isspace():\n",
    "            file.write(line)"
   ]
  },
  {
   "cell_type": "code",
   "execution_count": 19,
   "metadata": {},
   "outputs": [
    {
     "data": {
      "text/plain": [
       "<_io.TextIOWrapper name='My Clippings.txt' mode='r+' encoding='utf8'>"
      ]
     },
     "execution_count": 19,
     "metadata": {},
     "output_type": "execute_result"
    }
   ],
   "source": []
  },
  {
   "cell_type": "code",
   "execution_count": 9,
   "metadata": {},
   "outputs": [
    {
     "name": "stderr",
     "output_type": "stream",
     "text": [
      "b'Skipping line 4: expected 3 fields, saw 4\\nSkipping line 14: expected 3 fields, saw 4\\nSkipping line 19: expected 3 fields, saw 4\\nSkipping line 44: expected 3 fields, saw 6\\nSkipping line 64: expected 3 fields, saw 9\\nSkipping line 69: expected 3 fields, saw 5\\nSkipping line 84: expected 3 fields, saw 4\\nSkipping line 94: expected 3 fields, saw 4\\nSkipping line 99: expected 3 fields, saw 5\\nSkipping line 109: expected 3 fields, saw 4\\nSkipping line 114: expected 3 fields, saw 4\\nSkipping line 119: expected 3 fields, saw 5\\nSkipping line 124: expected 3 fields, saw 4\\nSkipping line 129: expected 3 fields, saw 8\\nSkipping line 134: expected 3 fields, saw 4\\nSkipping line 139: expected 3 fields, saw 6\\nSkipping line 174: expected 3 fields, saw 4\\nSkipping line 219: expected 3 fields, saw 6\\nSkipping line 224: expected 3 fields, saw 7\\nSkipping line 254: expected 3 fields, saw 4\\nSkipping line 259: expected 3 fields, saw 5\\nSkipping line 294: expected 3 fields, saw 4\\nSkipping line 299: expected 3 fields, saw 4\\nSkipping line 304: expected 3 fields, saw 4\\nSkipping line 314: expected 3 fields, saw 4\\nSkipping line 319: expected 3 fields, saw 5\\nSkipping line 324: expected 3 fields, saw 5\\nSkipping line 329: expected 3 fields, saw 5\\nSkipping line 334: expected 3 fields, saw 6\\nSkipping line 339: expected 3 fields, saw 8\\nSkipping line 344: expected 3 fields, saw 5\\nSkipping line 349: expected 3 fields, saw 4\\nSkipping line 354: expected 3 fields, saw 6\\nSkipping line 379: expected 3 fields, saw 4\\nSkipping line 384: expected 3 fields, saw 6\\nSkipping line 404: expected 3 fields, saw 6\\nSkipping line 409: expected 3 fields, saw 5\\nSkipping line 414: expected 3 fields, saw 4\\nSkipping line 439: expected 3 fields, saw 7\\nSkipping line 454: expected 3 fields, saw 4\\nSkipping line 479: expected 3 fields, saw 4\\nSkipping line 484: expected 3 fields, saw 4\\nSkipping line 519: expected 3 fields, saw 4\\nSkipping line 524: expected 3 fields, saw 5\\nSkipping line 579: expected 3 fields, saw 5\\nSkipping line 584: expected 3 fields, saw 4\\nSkipping line 604: expected 3 fields, saw 5\\nSkipping line 619: expected 3 fields, saw 4\\nSkipping line 634: expected 3 fields, saw 4\\nSkipping line 639: expected 3 fields, saw 4\\nSkipping line 654: expected 3 fields, saw 6\\nSkipping line 674: expected 3 fields, saw 5\\nSkipping line 694: expected 3 fields, saw 5\\nSkipping line 704: expected 3 fields, saw 4\\nSkipping line 709: expected 3 fields, saw 5\\nSkipping line 724: expected 3 fields, saw 5\\nSkipping line 729: expected 3 fields, saw 6\\nSkipping line 734: expected 3 fields, saw 6\\nSkipping line 759: expected 3 fields, saw 7\\nSkipping line 764: expected 3 fields, saw 10\\nSkipping line 769: expected 3 fields, saw 9\\nSkipping line 774: expected 3 fields, saw 6\\nSkipping line 784: expected 3 fields, saw 5\\nSkipping line 789: expected 3 fields, saw 4\\nSkipping line 799: expected 3 fields, saw 4\\nSkipping line 804: expected 3 fields, saw 4\\nSkipping line 844: expected 3 fields, saw 8\\nSkipping line 849: expected 3 fields, saw 9\\nSkipping line 854: expected 3 fields, saw 8\\nSkipping line 859: expected 3 fields, saw 6\\nSkipping line 864: expected 3 fields, saw 5\\nSkipping line 869: expected 3 fields, saw 4\\nSkipping line 874: expected 3 fields, saw 5\\nSkipping line 879: expected 3 fields, saw 6\\nSkipping line 889: expected 3 fields, saw 6\\nSkipping line 910: expected 3 fields, saw 4\\nSkipping line 920: expected 3 fields, saw 4\\nSkipping line 955: expected 3 fields, saw 5\\nSkipping line 985: expected 3 fields, saw 4\\nSkipping line 1000: expected 3 fields, saw 6\\nSkipping line 1005: expected 3 fields, saw 4\\nSkipping line 1020: expected 3 fields, saw 7\\nSkipping line 1050: expected 3 fields, saw 8\\nSkipping line 1078: expected 3 fields, saw 6\\nSkipping line 1102: expected 3 fields, saw 5\\nSkipping line 1107: expected 3 fields, saw 6\\nSkipping line 1117: expected 3 fields, saw 6\\nSkipping line 1122: expected 3 fields, saw 7\\nSkipping line 1137: expected 3 fields, saw 4\\n'\n"
     ]
    }
   ],
   "source": [
    "# Load Kindle myclippings.txt\n",
    "clippings = pd.read_csv('My Clippings.txt', error_bad_lines=False)"
   ]
  },
  {
   "cell_type": "code",
   "execution_count": 10,
   "metadata": {},
   "outputs": [
    {
     "data": {
      "text/html": [
       "<div>\n",
       "<style scoped>\n",
       "    .dataframe tbody tr th:only-of-type {\n",
       "        vertical-align: middle;\n",
       "    }\n",
       "\n",
       "    .dataframe tbody tr th {\n",
       "        vertical-align: top;\n",
       "    }\n",
       "\n",
       "    .dataframe thead th {\n",
       "        text-align: right;\n",
       "    }\n",
       "</style>\n",
       "<table border=\"1\" class=\"dataframe\">\n",
       "  <thead>\n",
       "    <tr style=\"text-align: right;\">\n",
       "      <th></th>\n",
       "      <th>I Will Teach You to Be Rich</th>\n",
       "      <th>Second Edition: No Guilt. No Excuses. No BS. Just a 6-Week Program That Works (Sethi</th>\n",
       "      <th>Ramit)</th>\n",
       "    </tr>\n",
       "  </thead>\n",
       "  <tbody>\n",
       "    <tr>\n",
       "      <th>0</th>\n",
       "      <td>- Your Highlight on page 288 | Location 5285-5...</td>\n",
       "      <td>May 4</td>\n",
       "      <td>2020 9:09:58 PM</td>\n",
       "    </tr>\n",
       "    <tr>\n",
       "      <th>1</th>\n",
       "      <td>==========</td>\n",
       "      <td>NaN</td>\n",
       "      <td>NaN</td>\n",
       "    </tr>\n",
       "    <tr>\n",
       "      <th>2</th>\n",
       "      <td>﻿I Will Teach You to Be Rich</td>\n",
       "      <td>Second Edition: No Guilt. No Excuses. No BS. ...</td>\n",
       "      <td>Ramit)</td>\n",
       "    </tr>\n",
       "    <tr>\n",
       "      <th>3</th>\n",
       "      <td>- Your Highlight on page 319 | Location 5899-5...</td>\n",
       "      <td>May 5</td>\n",
       "      <td>2020 9:41:04 PM</td>\n",
       "    </tr>\n",
       "    <tr>\n",
       "      <th>4</th>\n",
       "      <td>I also highly recommend using Fighting Chance ...</td>\n",
       "      <td>an information service for car buyers</td>\n",
       "      <td>to arm yourself before you negotiate.</td>\n",
       "    </tr>\n",
       "    <tr>\n",
       "      <th>...</th>\n",
       "      <td>...</td>\n",
       "      <td>...</td>\n",
       "      <td>...</td>\n",
       "    </tr>\n",
       "    <tr>\n",
       "      <th>821</th>\n",
       "      <td>==========</td>\n",
       "      <td>NaN</td>\n",
       "      <td>NaN</td>\n",
       "    </tr>\n",
       "    <tr>\n",
       "      <th>822</th>\n",
       "      <td>Build a Career in Data Science (Robinson</td>\n",
       "      <td>Emily)</td>\n",
       "      <td>NaN</td>\n",
       "    </tr>\n",
       "    <tr>\n",
       "      <th>823</th>\n",
       "      <td>- Your Highlight on Location 2975-2975 | Added...</td>\n",
       "      <td>December 27</td>\n",
       "      <td>2020 9:30:28 PM</td>\n",
       "    </tr>\n",
       "    <tr>\n",
       "      <th>824</th>\n",
       "      <td>Together</td>\n",
       "      <td>you want to define what success means in your...</td>\n",
       "      <td>your success is tied to making your team and/...</td>\n",
       "    </tr>\n",
       "    <tr>\n",
       "      <th>825</th>\n",
       "      <td>==========</td>\n",
       "      <td>NaN</td>\n",
       "      <td>NaN</td>\n",
       "    </tr>\n",
       "  </tbody>\n",
       "</table>\n",
       "<p>826 rows × 3 columns</p>\n",
       "</div>"
      ],
      "text/plain": [
       "                           I Will Teach You to Be Rich  \\\n",
       "0    - Your Highlight on page 288 | Location 5285-5...   \n",
       "1                                           ==========   \n",
       "2                         ﻿I Will Teach You to Be Rich   \n",
       "3    - Your Highlight on page 319 | Location 5899-5...   \n",
       "4    I also highly recommend using Fighting Chance ...   \n",
       "..                                                 ...   \n",
       "821                                         ==========   \n",
       "822           Build a Career in Data Science (Robinson   \n",
       "823  - Your Highlight on Location 2975-2975 | Added...   \n",
       "824                                           Together   \n",
       "825                                         ==========   \n",
       "\n",
       "     Second Edition: No Guilt. No Excuses. No BS. Just a 6-Week Program That Works (Sethi  \\\n",
       "0                                                May 4                                      \n",
       "1                                                  NaN                                      \n",
       "2     Second Edition: No Guilt. No Excuses. No BS. ...                                      \n",
       "3                                                May 5                                      \n",
       "4                an information service for car buyers                                      \n",
       "..                                                 ...                                      \n",
       "821                                                NaN                                      \n",
       "822                                             Emily)                                      \n",
       "823                                        December 27                                      \n",
       "824   you want to define what success means in your...                                      \n",
       "825                                                NaN                                      \n",
       "\n",
       "                                                Ramit)  \n",
       "0                                      2020 9:09:58 PM  \n",
       "1                                                  NaN  \n",
       "2                                               Ramit)  \n",
       "3                                      2020 9:41:04 PM  \n",
       "4                to arm yourself before you negotiate.  \n",
       "..                                                 ...  \n",
       "821                                                NaN  \n",
       "822                                                NaN  \n",
       "823                                    2020 9:30:28 PM  \n",
       "824   your success is tied to making your team and/...  \n",
       "825                                                NaN  \n",
       "\n",
       "[826 rows x 3 columns]"
      ]
     },
     "execution_count": 10,
     "metadata": {},
     "output_type": "execute_result"
    }
   ],
   "source": [
    "clippings"
   ]
  },
  {
   "cell_type": "code",
   "execution_count": null,
   "metadata": {},
   "outputs": [],
   "source": []
  }
 ],
 "metadata": {
  "kernelspec": {
   "display_name": "Python 3",
   "language": "python",
   "name": "python3"
  },
  "language_info": {
   "codemirror_mode": {
    "name": "ipython",
    "version": 3
   },
   "file_extension": ".py",
   "mimetype": "text/x-python",
   "name": "python",
   "nbconvert_exporter": "python",
   "pygments_lexer": "ipython3",
   "version": "3.8.5"
  }
 },
 "nbformat": 4,
 "nbformat_minor": 2
}

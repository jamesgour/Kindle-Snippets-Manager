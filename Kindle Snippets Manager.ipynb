{
 "cells": [
  {
   "cell_type": "code",
   "execution_count": 1,
   "metadata": {},
   "outputs": [],
   "source": [
    "# Import Libraries\n",
    "import pandas as pd\n",
    "import numpy as np\n",
    "import seaborn as sns\n",
    "\n",
    "import sys\n",
    "import streamlit as st"
   ]
  },
  {
   "cell_type": "code",
   "execution_count": 2,
   "metadata": {},
   "outputs": [],
   "source": [
    "pd.set_option('display.max_rows', 500)"
   ]
  },
  {
   "cell_type": "code",
   "execution_count": 3,
   "metadata": {},
   "outputs": [],
   "source": [
    "# Create a list item for every line in myclippings.txt\n",
    "clippings_list = []\n",
    "\n",
    "with open('My Clippings - Copy.txt', 'r+', encoding=\"utf8\") as file:\n",
    "    for line in file:\n",
    "        line = line.rstrip('\\n')\n",
    "        line = line.replace('\\ufeff', '')\n",
    "        clippings_list.append(line)"
   ]
  },
  {
   "cell_type": "code",
   "execution_count": 4,
   "metadata": {},
   "outputs": [],
   "source": [
    "# Remove empty lines from list\n",
    "for item in clippings_list:\n",
    "    if item == '':\n",
    "        clippings_list.remove(item)\n",
    "    else:\n",
    "        pass"
   ]
  },
  {
   "cell_type": "code",
   "execution_count": 5,
   "metadata": {},
   "outputs": [],
   "source": [
    "# Re-package into list of lists for each item ending at separator \"==========\"\n",
    "clippings_list_final = []\n",
    "temp_list = []\n",
    "\n",
    "for item in clippings_list:\n",
    "    if item == '==========':\n",
    "        clippings_list_final.append(temp_list)\n",
    "        temp_list = []\n",
    "    else:\n",
    "        temp_list.append(item)\n",
    "        \n",
    "#clippings_list_final"
   ]
  },
  {
   "cell_type": "code",
   "execution_count": 6,
   "metadata": {},
   "outputs": [],
   "source": [
    "# Create a data frame from the list\n",
    "clippings_df = pd.DataFrame(clippings_list_final)\n",
    "\n",
    "# Merge clippings that flow onto multiple lines into one column\n",
    "clippings_df['Clipping'] = clippings_df[clippings_df.columns[2:]].apply(lambda x: ' '.join(x.dropna().astype(str)),axis=1)\n",
    "\n",
    "# Remove the extra columns & rename\n",
    "clippings_df = clippings_df[[0,1,'Clipping']]\n",
    "clippings_df.columns = ['Book Title', 'Metadata', 'Clipping']"
   ]
  },
  {
   "cell_type": "code",
   "execution_count": 7,
   "metadata": {},
   "outputs": [],
   "source": [
    "# Remove duplicate clippings - sometimes happens due to Kindle glitch\n",
    "clippings_df = clippings_df.drop_duplicates(subset='Clipping', keep=\"first\")"
   ]
  },
  {
   "cell_type": "code",
   "execution_count": 8,
   "metadata": {},
   "outputs": [],
   "source": [
    "# Expand the Book Title & Metadata info into individual columns\n",
    "clippings_df[['Book Title','Author']] = clippings_df['Book Title'].str.split('(',expand=True)\n",
    "clippings_df['Author'] = clippings_df['Author'].str.replace(')', '')"
   ]
  },
  {
   "cell_type": "code",
   "execution_count": 9,
   "metadata": {},
   "outputs": [
    {
     "data": {
      "text/html": [
       "<div>\n",
       "<style scoped>\n",
       "    .dataframe tbody tr th:only-of-type {\n",
       "        vertical-align: middle;\n",
       "    }\n",
       "\n",
       "    .dataframe tbody tr th {\n",
       "        vertical-align: top;\n",
       "    }\n",
       "\n",
       "    .dataframe thead th {\n",
       "        text-align: right;\n",
       "    }\n",
       "</style>\n",
       "<table border=\"1\" class=\"dataframe\">\n",
       "  <thead>\n",
       "    <tr style=\"text-align: right;\">\n",
       "      <th></th>\n",
       "      <th>Book Title</th>\n",
       "      <th>Metadata</th>\n",
       "      <th>Clipping</th>\n",
       "      <th>Author</th>\n",
       "    </tr>\n",
       "  </thead>\n",
       "  <tbody>\n",
       "    <tr>\n",
       "      <th>0</th>\n",
       "      <td>I Will Teach You to Be Rich, Second Edition: N...</td>\n",
       "      <td>- Your Highlight on page 288 | Location 5285-5...</td>\n",
       "      <td>Log in to your investment account no more than...</td>\n",
       "      <td>Sethi, Ramit</td>\n",
       "    </tr>\n",
       "    <tr>\n",
       "      <th>1</th>\n",
       "      <td>I Will Teach You to Be Rich, Second Edition: N...</td>\n",
       "      <td>- Your Highlight on page 319 | Location 5899-5...</td>\n",
       "      <td>I also highly recommend using Fighting Chance ...</td>\n",
       "      <td>Sethi, Ramit</td>\n",
       "    </tr>\n",
       "    <tr>\n",
       "      <th>2</th>\n",
       "      <td>I Will Teach You to Be Rich, Second Edition: N...</td>\n",
       "      <td>- Your Highlight on page 319 | Location 5899-5...</td>\n",
       "      <td>I also highly recommend using Fighting Chance ...</td>\n",
       "      <td>Sethi, Ramit</td>\n",
       "    </tr>\n",
       "    <tr>\n",
       "      <th>3</th>\n",
       "      <td>I Will Teach You to Be Rich, Second Edition: N...</td>\n",
       "      <td>- Your Highlight on page 320 | Location 5904-5...</td>\n",
       "      <td>Here’s how I did it: When I decided to buy—at ...</td>\n",
       "      <td>Sethi, Ramit</td>\n",
       "    </tr>\n",
       "    <tr>\n",
       "      <th>4</th>\n",
       "      <td>Microsoft Power BI Cookbook</td>\n",
       "      <td>- Your Highlight on Location 1537-1539 | Added...</td>\n",
       "      <td>Per the guidance in Chapter 1, Configuring Pow...</td>\n",
       "      <td>Brett Powell</td>\n",
       "    </tr>\n",
       "  </tbody>\n",
       "</table>\n",
       "</div>"
      ],
      "text/plain": [
       "                                          Book Title  \\\n",
       "0  I Will Teach You to Be Rich, Second Edition: N...   \n",
       "1  I Will Teach You to Be Rich, Second Edition: N...   \n",
       "2  I Will Teach You to Be Rich, Second Edition: N...   \n",
       "3  I Will Teach You to Be Rich, Second Edition: N...   \n",
       "4                       Microsoft Power BI Cookbook    \n",
       "\n",
       "                                            Metadata  \\\n",
       "0  - Your Highlight on page 288 | Location 5285-5...   \n",
       "1  - Your Highlight on page 319 | Location 5899-5...   \n",
       "2  - Your Highlight on page 319 | Location 5899-5...   \n",
       "3  - Your Highlight on page 320 | Location 5904-5...   \n",
       "4  - Your Highlight on Location 1537-1539 | Added...   \n",
       "\n",
       "                                            Clipping        Author  \n",
       "0  Log in to your investment account no more than...  Sethi, Ramit  \n",
       "1  I also highly recommend using Fighting Chance ...  Sethi, Ramit  \n",
       "2  I also highly recommend using Fighting Chance ...  Sethi, Ramit  \n",
       "3  Here’s how I did it: When I decided to buy—at ...  Sethi, Ramit  \n",
       "4  Per the guidance in Chapter 1, Configuring Pow...  Brett Powell  "
      ]
     },
     "execution_count": 9,
     "metadata": {},
     "output_type": "execute_result"
    }
   ],
   "source": [
    "clippings_df.head()"
   ]
  }
 ],
 "metadata": {
  "kernelspec": {
   "display_name": "Python 3",
   "language": "python",
   "name": "python3"
  },
  "language_info": {
   "codemirror_mode": {
    "name": "ipython",
    "version": 3
   },
   "file_extension": ".py",
   "mimetype": "text/x-python",
   "name": "python",
   "nbconvert_exporter": "python",
   "pygments_lexer": "ipython3",
   "version": "3.8.5"
  }
 },
 "nbformat": 4,
 "nbformat_minor": 2
}
